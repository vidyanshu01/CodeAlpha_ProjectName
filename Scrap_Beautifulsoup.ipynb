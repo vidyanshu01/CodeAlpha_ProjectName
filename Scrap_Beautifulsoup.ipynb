{
 "cells": [
  {
   "cell_type": "code",
   "execution_count": 5,
   "id": "2f25c0c1",
   "metadata": {},
   "outputs": [
    {
     "name": "stdout",
     "output_type": "stream",
     "text": [
      "Scraping completed. Data saved to 'quotes.csv'\n"
     ]
    }
   ],
   "source": [
    "import requests\n",
    "from bs4 import BeautifulSoup\n",
    "import csv\n",
    "\n",
    "# Base URL\n",
    "url = 'http://quotes.toscrape.com/page/{}/'\n",
    "\n",
    "# Empty list to hold the quotes\n",
    "all_quotes = []\n",
    "\n",
    "# Scrape first 5 pages (you can increase this)\n",
    "for page in range(1, 6):\n",
    "    response = requests.get(url.format(page))\n",
    "    soup = BeautifulSoup(response.text, 'html.parser')\n",
    "\n",
    "    # Find all quote blocks\n",
    "    quotes = soup.find_all('div', class_='quote')\n",
    "\n",
    "    for quote in quotes:\n",
    "        text = quote.find('span', class_='text').text.strip()\n",
    "        author = quote.find('small', class_='author').text.strip()\n",
    "        tags = [tag.text for tag in quote.find_all('a', class_='tag')]\n",
    "\n",
    "        all_quotes.append({\n",
    "            'Quote': text,\n",
    "            'Author': author,\n",
    "            'Tags': ', '.join(tags)\n",
    "        })\n",
    "\n",
    "# Save to CSV\n",
    "with open('quotes.csv', 'w', newline='', encoding='utf-8') as f:\n",
    "    writer = csv.DictWriter(f, fieldnames=['Quote', 'Author', 'Tags'])\n",
    "    writer.writeheader()\n",
    "    writer.writerows(all_quotes)\n",
    "\n",
    "print(\"Scraping completed. Data saved to 'quotes.csv'\")\n"
   ]
  }
 ],
 "metadata": {
  "kernelspec": {
   "display_name": "base",
   "language": "python",
   "name": "python3"
  },
  "language_info": {
   "codemirror_mode": {
    "name": "ipython",
    "version": 3
   },
   "file_extension": ".py",
   "mimetype": "text/x-python",
   "name": "python",
   "nbconvert_exporter": "python",
   "pygments_lexer": "ipython3",
   "version": "3.12.7"
  }
 },
 "nbformat": 4,
 "nbformat_minor": 5
}
